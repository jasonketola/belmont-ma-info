{
 "cells": [
  {
   "cell_type": "code",
   "execution_count": 6,
   "id": "blind-sweden",
   "metadata": {},
   "outputs": [],
   "source": [
    "import pandas as pd"
   ]
  },
  {
   "cell_type": "code",
   "execution_count": 46,
   "id": "available-respondent",
   "metadata": {},
   "outputs": [],
   "source": [
    "votes = pd.read_csv(\"../sqlite/2020.06.16.csv\")\n",
    "votes[\"vote date\"] = \"06-16-2020\""
   ]
  },
  {
   "cell_type": "code",
   "execution_count": 47,
   "id": "forty-anthropology",
   "metadata": {},
   "outputs": [],
   "source": [
    "votes.columns = votes.columns.str.lower()"
   ]
  },
  {
   "cell_type": "code",
   "execution_count": 48,
   "id": "available-cardiff",
   "metadata": {},
   "outputs": [],
   "source": [
    "votes.columns = votes.columns.str.replace(\"\\n\", \" \")"
   ]
  },
  {
   "cell_type": "code",
   "execution_count": 49,
   "id": "durable-commitment",
   "metadata": {},
   "outputs": [
    {
     "data": {
      "text/plain": [
       "Index(['pct', 'first name', 'last name', 'attendance',\n",
       "       'votes available legend', 'remote town meeting vote',\n",
       "       'article 1: reports', 'consent agenda: articles 2-6',\n",
       "       'article 7: a) appropriation of capital expeditures',\n",
       "       'article 7: b) appropriation of capital expenditures',\n",
       "       'article 8: opeb stabilization fund',\n",
       "       'motion to terminate debate: discussion on article 9 crockett amendment',\n",
       "       'article 9 crockett amendment: fy21 budget appropriation',\n",
       "       'motion to terminate debate: discussion on article 9 main motion',\n",
       "       'aricle 9: fy21 budget appropriation main motion',\n",
       "       'aricle 10: fy21 community preservation committee budget and projects',\n",
       "       'motion to terminate debate: discussion on article 11',\n",
       "       'article 11: community preservation committee amend 2018 appropriation for belmont housing',\n",
       "       'article 12: home rule petition for special act of the massachusetts legislature - remote participation of town meeting',\n",
       "       'vote date'],\n",
       "      dtype='object')"
      ]
     },
     "execution_count": 49,
     "metadata": {},
     "output_type": "execute_result"
    }
   ],
   "source": [
    "votes.columns"
   ]
  },
  {
   "cell_type": "code",
   "execution_count": 51,
   "id": "known-baseball",
   "metadata": {},
   "outputs": [],
   "source": [
    "votes.to_csv(\"../sqlite/2020.06.16_clean.csv\", index=False)"
   ]
  },
  {
   "cell_type": "code",
   "execution_count": 52,
   "id": "infectious-focus",
   "metadata": {},
   "outputs": [],
   "source": [
    "years = pd.read_csv(\"../sqlite/years_served.csv\")"
   ]
  },
  {
   "cell_type": "code",
   "execution_count": 53,
   "id": "single-bowling",
   "metadata": {},
   "outputs": [],
   "source": [
    "years.columns = years.columns.str.lower()"
   ]
  },
  {
   "cell_type": "code",
   "execution_count": 55,
   "id": "nonprofit-hydrogen",
   "metadata": {},
   "outputs": [],
   "source": [
    "years.to_csv(\"../sqlite/years_served_clean.csv\", index=False)"
   ]
  },
  {
   "cell_type": "code",
   "execution_count": null,
   "id": "expressed-attitude",
   "metadata": {},
   "outputs": [],
   "source": [
    "years.merge(votes, on=[\"First Name\", \"Last Name\"], how=\"left\")"
   ]
  }
 ],
 "metadata": {
  "kernelspec": {
   "display_name": "Python 3",
   "language": "python",
   "name": "python3"
  },
  "language_info": {
   "codemirror_mode": {
    "name": "ipython",
    "version": 3
   },
   "file_extension": ".py",
   "mimetype": "text/x-python",
   "name": "python",
   "nbconvert_exporter": "python",
   "pygments_lexer": "ipython3",
   "version": "3.6.6"
  }
 },
 "nbformat": 4,
 "nbformat_minor": 5
}
